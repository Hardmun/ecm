{
 "cells": [
  {
   "cell_type": "code",
   "execution_count": 41,
   "metadata": {
    "pycharm": {
     "is_executing": true,
     "name": "#%% \n"
    },
    "scrolled": false
   },
   "outputs": [],
   "source": [
    "from pandas import set_option as pd_set_option\n",
    "pd_set_option('display.max_rows', 500)\n",
    "pd_set_option('display.max_columns', 500)\n",
    "from pandas import concat as pd_concat\n",
    "from pandas import merge as pd_merge\n",
    "from pandas import MultiIndex as pd_MultiIndex\n",
    "from reports.contracts.contract import  get_group_fields\n",
    "from pandas import DataFrame as pd_DataFrame\n",
    "from json import load as js_load\n",
    "from common import full_path\n",
    "\n",
    "def get_contract_report():\n",
    "    with open(full_path(\"reports/contracts/files/full.json\"), \"r\", encoding='utf-8') as js_file:\n",
    "        data_load = js_load(js_file)\n",
    "\n",
    "    df_period = pd_DataFrame(data_load[\"dannieperiod\"])\n",
    "    df_rev = pd_DataFrame(data_load[\"dohdogovori\"])\n",
    "    df_exp = pd_DataFrame(data_load[\"rashdogovori\"])\n",
    "\n",
    "    \"\"\"union and merge table\"\"\"\n",
    "    df_result = pd_concat([df_rev, df_exp], ignore_index=True, sort=False)\n",
    "    # df_result = df_result.loc[df_result['doh_dogovor'] == '\"Договор 00000006249 от 09.08.2019 12:00:01\"']\n",
    "    df_result = pd_merge(df_result, df_period, on=[\"dogovorssilka\", \"filial\"], how=\"left\")\n",
    "    df_result = df_result.fillna(\n",
    "        {\"period\": \"2019-01-01T00:00:00\", \"oplatazaperiodplan\": 0, \"oplatazaperiodfakt\": 0, \"summazaperiodplanitogo\": 0,\n",
    "         \"viruchkazaperiodfakt\": 0}).fillna('')\n",
    "    \"\"\"building pivot table\"\"\"\n",
    "    df_result = df_result.pivot_table(index=get_group_fields(), columns=\"period\",\n",
    "                                      values=[\"oplatazaperiodplan\", \"oplatazaperiodfakt\", \"summazaperiodplanitogo\",\n",
    "                                              \"viruchkazaperiodfakt\"], fill_value='',\n",
    "                                      margins=True,\n",
    "                                      aggfunc=sum).replace(0, '')\n",
    "    \"\"\"removing the last row with totals\"\"\"\n",
    "    df_result = df_result[:-1]\n",
    "    \"\"\"to swipe columns\"\"\"\n",
    "    # result = result.swaplevel(0, 1, axis=1).sort_index(axis=1)\n",
    "    \"\"\"reseting and building a new hierarchy indexes\"\"\"\n",
    "    df_result = df_result.reset_index()\n",
    "    df_result = df_result.set_index(['doh_dogovor', 'rash_dogovor']).sort_index()\n",
    "\n",
    "    \"\"\"format values(need to rebuild later)\"\"\"\n",
    "    df_result['doh_data'] = df_result['doh_data'].apply(lambda x: \"{:.10}\".format(x))\n",
    "    df_result['doh_dataokonchaniya'] = df_result['doh_dataokonchaniya'].apply(lambda x: \"{:.10}\".format(x))\n",
    "    df_result['rash_data'] = df_result['rash_data'].apply(lambda x: \"{:.10}\".format(x))\n",
    "\n",
    "get_contract_report()"
   ]
  }
 ],
 "metadata": {
  "kernelspec": {
   "display_name": "Python 3",
   "language": "python",
   "name": "python3"
  },
  "language_info": {
   "codemirror_mode": {
    "name": "ipython",
    "version": 3
   },
   "file_extension": ".py",
   "mimetype": "text/x-python",
   "name": "python",
   "nbconvert_exporter": "python",
   "pygments_lexer": "ipython3",
   "version": "3.7.5"
  },
  "pycharm": {
   "stem_cell": {
    "cell_type": "raw",
    "metadata": {
     "collapsed": false
    },
    "source": []
   }
  }
 },
 "nbformat": 4,
 "nbformat_minor": 1
}
