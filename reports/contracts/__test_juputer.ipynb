{
 "cells": [
  {
   "cell_type": "code",
   "execution_count": 1,
   "metadata": {
    "pycharm": {
     "is_executing": false,
     "name": "#%% \n"
    }
   },
   "outputs": [
    {
     "traceback": [
      "\u001b[1;31m---------------------------------------------------------------------------\u001b[0m",
      "\u001b[1;31mNameError\u001b[0m                                 Traceback (most recent call last)",
      "\u001b[1;32m<ipython-input-1-fafa6be80c86>\u001b[0m in \u001b[0;36m<module>\u001b[1;34m\u001b[0m\n\u001b[0;32m     30\u001b[0m     \u001b[1;32mreturn\u001b[0m \u001b[0mresult\u001b[0m\u001b[1;33m\u001b[0m\u001b[1;33m\u001b[0m\u001b[0m\n\u001b[0;32m     31\u001b[0m \u001b[1;33m\u001b[0m\u001b[0m\n\u001b[1;32m---> 32\u001b[1;33m \u001b[0mget_contract_report\u001b[0m\u001b[1;33m(\u001b[0m\u001b[1;33m)\u001b[0m\u001b[1;33m\u001b[0m\u001b[1;33m\u001b[0m\u001b[0m\n\u001b[0m",
      "\u001b[1;32m<ipython-input-1-fafa6be80c86>\u001b[0m in \u001b[0;36mget_contract_report\u001b[1;34m()\u001b[0m\n\u001b[0;32m      8\u001b[0m \u001b[1;33m\u001b[0m\u001b[0m\n\u001b[0;32m      9\u001b[0m \u001b[1;32mdef\u001b[0m \u001b[0mget_contract_report\u001b[0m\u001b[1;33m(\u001b[0m\u001b[1;33m)\u001b[0m\u001b[1;33m:\u001b[0m\u001b[1;33m\u001b[0m\u001b[1;33m\u001b[0m\u001b[0m\n\u001b[1;32m---> 10\u001b[1;33m     \u001b[0mxls_struct\u001b[0m \u001b[1;33m=\u001b[0m \u001b[0mget_xls_struct\u001b[0m\u001b[1;33m(\u001b[0m\u001b[1;33m)\u001b[0m\u001b[1;33m\u001b[0m\u001b[1;33m\u001b[0m\u001b[0m\n\u001b[0m\u001b[0;32m     11\u001b[0m     \u001b[0mdf_period\u001b[0m \u001b[1;33m=\u001b[0m \u001b[0mgetDataFromExcel\u001b[0m\u001b[1;33m(\u001b[0m\u001b[1;34m\"files//periods.xlsx\"\u001b[0m\u001b[1;33m,\u001b[0m \u001b[0mlist\u001b[0m\u001b[1;33m(\u001b[0m\u001b[0mxls_struct\u001b[0m\u001b[1;33m[\u001b[0m\u001b[1;36m0\u001b[0m\u001b[1;33m]\u001b[0m\u001b[1;33m)\u001b[0m\u001b[1;33m)\u001b[0m\u001b[1;33m\u001b[0m\u001b[1;33m\u001b[0m\u001b[0m\n\u001b[0;32m     12\u001b[0m     \u001b[0mdf_period\u001b[0m \u001b[1;33m=\u001b[0m \u001b[0mdf_period\u001b[0m\u001b[1;33m.\u001b[0m\u001b[0mrename\u001b[0m\u001b[1;33m(\u001b[0m\u001b[0mcolumns\u001b[0m\u001b[1;33m=\u001b[0m\u001b[0mxls_struct\u001b[0m\u001b[1;33m[\u001b[0m\u001b[1;36m0\u001b[0m\u001b[1;33m]\u001b[0m\u001b[1;33m)\u001b[0m\u001b[1;33m\u001b[0m\u001b[1;33m\u001b[0m\u001b[0m\n",
      "\u001b[1;31mNameError\u001b[0m: name 'get_xls_struct' is not defined"
     ],
     "ename": "NameError",
     "evalue": "name 'get_xls_struct' is not defined",
     "output_type": "error"
    }
   ],
   "source": [
    "from pandas import set_option as pd_set_option\n",
    "pd_set_option('display.max_rows', 500)\n",
    "pd_set_option('display.max_columns', 500)\n",
    "from excel_app import getDataFromExcel\n",
    "from pandas import concat as pd_concat\n",
    "from pandas import merge as pd_merge\n",
    "from excel_app import df_to_excel\n",
    "from reports.contracts.contract import  get_xls_struct\n",
    "\n",
    "def get_contract_report():\n",
    "    xls_struct = get_xls_struct()\n",
    "    df_period = getDataFromExcel(\"files//periods.xlsx\", list(xls_struct[0]))\n",
    "    df_period = df_period.rename(columns=xls_struct[0])\n",
    "    df_rev = getDataFromExcel(\"files//revenew.xlsx\", list(xls_struct[1]))\n",
    "    df_rev = df_rev.rename(columns=xls_struct[1])\n",
    "    df_exp = getDataFromExcel(\"files//expense.xlsx\", list(xls_struct[2]))\n",
    "    df_exp = df_exp.rename(columns=xls_struct[2])\n",
    "\n",
    "    result = pd_concat([df_rev, df_exp], ignore_index=True, sort=False)\n",
    "    result = result.loc[result['rev_treat'] == '\"Договор 00000000052 от 25.01.2012 13:03:37\"']\n",
    "    result = pd_merge(result, df_period, on=[\"treat\", \"branch\"], how=\"left\")\n",
    "    result = result.fillna(\n",
    "        {\"date\": \"01.01.2019 0:00:00\", \"pay_plan\": 0, \"pay_fact\": 0, \"revenue_plan\": 0, \"revenue_fact\": 0}).fillna(\n",
    "        \"null\")\n",
    "    result = result.pivot_table(index=xls_struct[3], columns=\"date\",\n",
    "                                values=[\"pay_plan\", \"pay_fact\", \"revenue_plan\", \"revenue_fact\"], fill_value=0,\n",
    "                                margins=True,\n",
    "                                aggfunc=sum)\n",
    "    # result = result.swaplevel(0, 1, axis=1).sort_index(axis=1)\n",
    "    result = result.reset_index()\n",
    "    return result\n",
    "\n",
    "get_contract_report()"
   ]
  }
 ],
 "metadata": {
  "kernelspec": {
   "display_name": "Python 3",
   "language": "python",
   "name": "python3"
  },
  "language_info": {
   "codemirror_mode": {
    "name": "ipython",
    "version": 3
   },
   "file_extension": ".py",
   "mimetype": "text/x-python",
   "name": "python",
   "nbconvert_exporter": "python",
   "pygments_lexer": "ipython3",
   "version": "3.7.5"
  },
  "pycharm": {
   "stem_cell": {
    "cell_type": "raw",
    "source": [],
    "metadata": {
     "collapsed": false
    }
   }
  }
 },
 "nbformat": 4,
 "nbformat_minor": 1
}