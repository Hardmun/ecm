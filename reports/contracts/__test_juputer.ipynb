{
 "cells": [
  {
   "cell_type": "code",
   "execution_count": 1,
   "metadata": {
    "pycharm": {
     "is_executing": false,
     "name": "#%% \n"
    }
   },
   "outputs": [
    {
     "ename": "ModuleNotFoundError",
     "evalue": "No module named 'jupyter_mod'",
     "output_type": "error",
     "traceback": [
      "\u001b[1;31m---------------------------------------------------------------------------\u001b[0m",
      "\u001b[1;31mModuleNotFoundError\u001b[0m                       Traceback (most recent call last)",
      "\u001b[1;32m<ipython-input-1-61ba01bb153d>\u001b[0m in \u001b[0;36m<module>\u001b[1;34m\u001b[0m\n\u001b[0;32m      1\u001b[0m \u001b[1;32mimport\u001b[0m \u001b[0mpandas\u001b[0m \u001b[1;32mas\u001b[0m \u001b[0mpd\u001b[0m\u001b[1;33m\u001b[0m\u001b[1;33m\u001b[0m\u001b[0m\n\u001b[1;32m----> 2\u001b[1;33m \u001b[1;32mfrom\u001b[0m \u001b[0mjupyter_mod\u001b[0m\u001b[1;33m.\u001b[0m\u001b[0mfiles\u001b[0m\u001b[1;33m.\u001b[0m\u001b[0mget_df\u001b[0m \u001b[1;32mimport\u001b[0m \u001b[0mgetDataFromExcel\u001b[0m\u001b[1;33m\u001b[0m\u001b[1;33m\u001b[0m\u001b[0m\n\u001b[0m\u001b[0;32m      3\u001b[0m \u001b[1;32mfrom\u001b[0m \u001b[0mnumpy\u001b[0m \u001b[1;32mimport\u001b[0m \u001b[0msum\u001b[0m\u001b[1;33m\u001b[0m\u001b[1;33m\u001b[0m\u001b[0m\n\u001b[0;32m      4\u001b[0m \u001b[0mpd\u001b[0m\u001b[1;33m.\u001b[0m\u001b[0mset_option\u001b[0m\u001b[1;33m(\u001b[0m\u001b[1;34m'display.max_rows'\u001b[0m\u001b[1;33m,\u001b[0m \u001b[1;36m500\u001b[0m\u001b[1;33m)\u001b[0m\u001b[1;33m\u001b[0m\u001b[1;33m\u001b[0m\u001b[0m\n\u001b[0;32m      5\u001b[0m \u001b[0mpd\u001b[0m\u001b[1;33m.\u001b[0m\u001b[0mset_option\u001b[0m\u001b[1;33m(\u001b[0m\u001b[1;34m'display.max_columns'\u001b[0m\u001b[1;33m,\u001b[0m \u001b[1;36m500\u001b[0m\u001b[1;33m)\u001b[0m\u001b[1;33m\u001b[0m\u001b[1;33m\u001b[0m\u001b[0m\n",
      "\u001b[1;31mModuleNotFoundError\u001b[0m: No module named 'jupyter_mod'"
     ]
    }
   ],
   "source": [
    "import pandas as pd\n",
    "from jupyter_mod.files.get_df import getDataFromExcel\n",
    "from numpy import sum\n",
    "pd.set_option('display.max_rows', 500)\n",
    "pd.set_option('display.max_columns', 500)\n",
    "df_period = getDataFromExcel(\"periods.xlsx\", [\"Период\",\"ДоговорСсылка\",\"Филиал\",\"ОплатаЗаПериодПлан\",\"ОплатаЗаПериодФакт\",\"СуммаЗаПериодПлан\",\"ВыручкаЗаПериодФакт\"])\n",
    "df_period = df_period.rename(columns = {\"Период\":\"date\", \"ДоговорСсылка\":\"treat\", \"Филиал\":\"branch\", \"ОплатаЗаПериодПлан\":\"pay_plan\", \"ОплатаЗаПериодФакт\":\"pay_fact\", \"СуммаЗаПериодПлан\":\"revenue_plan\", \"ВыручкаЗаПериодФакт\":\"revenue_fact\"})\n",
    "df_rev = getDataFromExcel(\"revenew.xlsx\", [\"ДоговорСсылка\",\"Дох_Договор\",\"Дох_НомерДоговора\",\"Дох_Контрагент\",\"СуммаДоговора\",\"Филиал\"])\n",
    "df_rev = df_rev.rename(columns = {\"ДоговорСсылка\":\"treat\", \"Дох_Договор\":\"rev_treat\", \"Дох_НомерДоговора\":\"treat_num\", \"Дох_Контрагент\":\"client\", \"СуммаДоговора\":\"treat_amount\", \"Филиал\":\"branch\"})\n",
    "df_exp = getDataFromExcel(\"expense.xlsx\",  [\"ДоговорСсылка\",\"Дох_Договор\",\"Дох_НомерДоговора\",\"Дох_Контрагент\",\"Расх_Договор\",\"Расх_Контрагент\",\"СуммаДоговора\",\"Филиал\"])\n",
    "df_exp = df_exp.rename(columns = {\"ДоговорСсылка\":\"treat\", \"Дох_Договор\":\"rev_treat\", \"Дох_НомерДоговора\":\"treat_num\", \"Дох_Контрагент\":\"client\", \"Расх_Договор\":\"exp_treat\", \"Расх_Контрагент\":\"exp_client\", \"СуммаДоговора\":\"treat_amount\", \"Филиал\":\"branch\"})\n",
    "\n",
    "result = pd.concat([df_rev, df_exp], ignore_index=True, sort=False)\n",
    "result = result.loc[result['rev_treat']=='\"Договор 00000000052 от 25.01.2012 13:03:37\"']\n",
    "# df_period_pivot = df_period.pivot_table(index=[\"treat\", \"branch\"], columns = \"date\", values = [\"pay_plan\",\"pay_fact\"], margins = True, aggfunc=sum)\n",
    "# df_period_pivot = df_period_pivot.swaplevel(0, 1, axis=1).sort_index(axis=1)\n",
    "\n",
    "result = pd.merge(result, df_period, on=[\"treat\",\"branch\"], how=\"left\")\n",
    "result = result.fillna({\"date\":\"01.01.2019 0:00:00\", \"pay_plan\":0, \"pay_fact\":0, \"revenue_plan\":0, \"revenue_fact\":0}).fillna(\"null\")\n",
    "result = result.pivot_table(index=[\"treat\", \"branch\", \"rev_treat\", \"exp_treat\", \"treat_amount\"], columns = \"date\", values = [\"pay_plan\", \"revenue_plan\",\"revenue_fact\"], fill_value=0, margins = True, aggfunc=sum)\n",
    "result = result.swaplevel(0, 1, axis=1).sort_index(axis=1)\n",
    "result = result.reset_index()\n",
    "result = result.set_index(\"rev_treat\")\n",
    "\n",
    "result"
   ]
  },
  {
   "cell_type": "code",
   "execution_count": null,
   "metadata": {
    "pycharm": {
     "is_executing": false,
     "name": "#%%\n"
    }
   },
   "outputs": [],
   "source": [
    "\n",
    "\n"
   ]
  }
 ],
 "metadata": {
  "kernelspec": {
   "display_name": "Python 3",
   "language": "python",
   "name": "python3"
  },
  "language_info": {
   "codemirror_mode": {
    "name": "ipython",
    "version": 3
   },
   "file_extension": ".py",
   "mimetype": "text/x-python",
   "name": "python",
   "nbconvert_exporter": "python",
   "pygments_lexer": "ipython3",
   "version": "3.7.5"
  },
  "pycharm": {
   "stem_cell": {
    "cell_type": "raw",
    "metadata": {
     "collapsed": false
    },
    "source": []
   }
  }
 },
 "nbformat": 4,
 "nbformat_minor": 1
}
